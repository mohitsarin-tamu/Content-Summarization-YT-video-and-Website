{
 "cells": [
  {
   "cell_type": "code",
   "execution_count": 1,
   "metadata": {},
   "outputs": [],
   "source": [
    "from langchain.prompts import PromptTemplate"
   ]
  },
  {
   "cell_type": "code",
   "execution_count": 3,
   "metadata": {},
   "outputs": [],
   "source": [
    "from langchain_groq import ChatGroq\n",
    "from langchain.chains.summarize import load_summarize_chain\n",
    "from langchain_community.document_loaders import YoutubeLoader, UnstructuredURLLoader"
   ]
  },
  {
   "cell_type": "code",
   "execution_count": 5,
   "metadata": {},
   "outputs": [],
   "source": [
    "import validators, streamlit as st"
   ]
  },
  {
   "cell_type": "code",
   "execution_count": 6,
   "metadata": {},
   "outputs": [
    {
     "name": "stderr",
     "output_type": "stream",
     "text": [
      "2024-07-27 14:01:42.541 \n",
      "  \u001b[33m\u001b[1mWarning:\u001b[0m to view this Streamlit app on a browser, run it with the following\n",
      "  command:\n",
      "\n",
      "    streamlit run /Users/mohitsarin/Documents/GitHub/Content-Summarization-YT-video-and-Website/venev/lib/python3.10/site-packages/ipykernel_launcher.py [ARGUMENTS]\n"
     ]
    },
    {
     "data": {
      "text/plain": [
       "DeltaGenerator()"
      ]
     },
     "execution_count": 6,
     "metadata": {},
     "output_type": "execute_result"
    }
   ],
   "source": [
    "## create streamlit app\n",
    "\n",
    "st.set_page_config(page_title=\"LangChain: Summarize Text from Youtube or any Website\")\n",
    "st.title(\"LangChain: Summarize Text from Youtube or any Website\")\n",
    "st.subheader('Summarize URL')"
   ]
  },
  {
   "cell_type": "code",
   "execution_count": 7,
   "metadata": {},
   "outputs": [
    {
     "ename": "SyntaxError",
     "evalue": "expected 'except' or 'finally' block (2000627847.py, line 25)",
     "output_type": "error",
     "traceback": [
      "\u001b[0;36m  Cell \u001b[0;32mIn[7], line 25\u001b[0;36m\u001b[0m\n\u001b[0;31m    \u001b[0m\n\u001b[0m    ^\u001b[0m\n\u001b[0;31mSyntaxError\u001b[0m\u001b[0;31m:\u001b[0m expected 'except' or 'finally' block\n"
     ]
    }
   ],
   "source": [
    "# get Groq API key and URL \n",
    "\n",
    "with st.sidebar:\n",
    "    groq_api_key = st.text_input(\"Groq API Key\", value=\"\", type=\"password\")\n",
    "\n",
    "generic_url = st.text_input(\"URL\", label_visibility=\"collapsed\")\n",
    "\n",
    "if st.button(\"Summarize the Content\"):\n",
    "    if not groq_api_key.strip() or not url.strip():\n",
    "        st.error(\"Please provide the required information\")\n",
    "    elif not validators.url(generic_url):\n",
    "        st.error(\"Please enter Valid URL\")\n",
    "        \n",
    "    else:\n",
    "        try:\n",
    "            with st.spinner(\"Waiting....\"):\n",
    "                if \"youtube.com\" in generic_url:\n",
    "                    loader = YoutubeLoader.from_youtube_url(generic_url, add_video_info = True)\n",
    "                else:\n",
    "                    loader = UnstructuredURLLoader(urls=[generic_url], ssl_verify = False, headers = {\"User-Agent\": \"Mozilla/5.0 (Macintosh; Intel Mac OS X 13_5_1) AppleWebKit/537.36 (KHTML, like Gecto) Chrome/116.0.0.0 Safari/537.36\"})\n",
    "                \n",
    "                docs = loader.load()\n",
    "                \n",
    "            \n",
    "                # Summarization\n",
    "\n",
    "                chain = load_summarize_chain(llm, chain_type=\"stuff\", prompt = prompt)\n",
    "                output_summary = chain.run(docs)\n",
    "                \n",
    "                st.success(output_summary)\n",
    "        except  Exception as e:\n",
    "            st.exception(f\"Exception: {e}\")\n",
    "                    \n",
    "    \n",
    "    "
   ]
  }
 ],
 "metadata": {
  "kernelspec": {
   "display_name": "Python 3",
   "language": "python",
   "name": "python3"
  },
  "language_info": {
   "codemirror_mode": {
    "name": "ipython",
    "version": 3
   },
   "file_extension": ".py",
   "mimetype": "text/x-python",
   "name": "python",
   "nbconvert_exporter": "python",
   "pygments_lexer": "ipython3",
   "version": "3.10.0"
  }
 },
 "nbformat": 4,
 "nbformat_minor": 2
}
